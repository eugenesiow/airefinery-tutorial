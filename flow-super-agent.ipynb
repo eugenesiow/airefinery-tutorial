{
 "cells": [
  {
   "cell_type": "markdown",
   "metadata": {},
   "source": [
    "# Getting Started with the Flow Super Agent using the AI Refinery SDK\n",
    "\n",
    "Welcome! This notebook is a beginner-friendly guide to using the Accenture AI Refinery SDK to orchestrate a complex workflow with a **Flow Super Agent**.\n",
    "\n",
    "This notebook uses the `DistillerClient` to manage a group of `UtilityAgent`s whose interactions are defined by a deterministic workflow. We will walk through setting up this multi-agent system to create a simple stock investment advisor."
   ]
  },
  {
   "cell_type": "markdown",
   "metadata": {},
   "source": [
    "## Step 1: Installation\n",
    "\n",
    "First, we need to install the necessary libraries. We'll install `airefinery-sdk`, `python-dotenv` for managing credentials, `PyYAML` to create our configuration, and `mermaid-py` to render the workflow diagram.\n",
    "\n",
    "You can run the cell below by selecting it and pressing **Shift + Enter**."
   ]
  },
  {
   "cell_type": "code",
   "execution_count": null,
   "metadata": {},
   "outputs": [],
   "source": [
    "%pip install airefinery-sdk python-dotenv PyYAML mermaid-py"
   ]
  },
  {
   "cell_type": "markdown",
   "metadata": {},
   "source": [
    "## Step 2: Import Libraries\n",
    "\n",
    "Now we import the necessary libraries for our notebook, including our `utils` module."
   ]
  },
  {
   "cell_type": "code",
   "execution_count": null,
   "metadata": {},
   "outputs": [],
   "source": [
    "import yaml\n",
    "from IPython.display import display, Markdown\n",
    "import utils"
   ]
  },
  {
   "cell_type": "markdown",
   "metadata": {},
   "source": [
    "## Step 3: Create Agent Configuration and Visualize Workflow\n",
    "\n",
    "The `DistillerClient` uses a YAML file to define all the agents and their workflows. The cell below will create the `flow_config.yaml` file for you. \n",
    "\n",
    "Immediately after, we'll use our utility function to read this file and render the workflow diagram."
   ]
  },
  {
   "cell_type": "code",
   "execution_count": null,
   "metadata": {},
   "outputs": [],
   "source": [
    "config_data = {\n",
    "    'orchestrator': {\n",
    "        'agent_list': [{'agent_name': 'Investment Strategy Advisor'}]\n",
    "    },\n",
    "    'utility_agents': [\n",
    "        {'agent_class': 'SearchAgent', 'agent_name': 'Stock Price Researcher', 'agent_description': 'Search stock price movements.'},\n",
    "        {'agent_class': 'SearchAgent', 'agent_name': 'Stock Trend Researcher', 'agent_description': 'Research stock market trends.'},\n",
    "        {'agent_class': 'SearchAgent', 'agent_name': 'Stock Influence Researcher', 'agent_description': 'Search factors influencing stock prices.'},\n",
    "        {'agent_class': 'SearchAgent', 'agent_name': 'Corporate Finance Researcher', 'agent_description': 'Research corporate finance and financial reports.'},\n",
    "        {\n",
    "            'agent_class': 'AuthorAgent',\n",
    "            'agent_name': 'Public Expectation Writer',\n",
    "            'agent_description': 'Summarize public expectations based on stock trends.',\n",
    "            'config': {\n",
    "                'memory_attribute_key': 'investment_analysis',\n",
    "                'title': 'Investment Analysis Report',\n",
    "                'leading_questions': [\n",
    "                    {'question': 'How do recent stock market trends reflect public sentiment and expectations for future price movements?', 'prompt': 'Analyze the latest stock market trends and explain how they influence public perception of future price changes.'},\n",
    "                    {'question': 'What common themes emerge from stock trends that indicate investor confidence or concern?', 'prompt': 'Identify key patterns in stock trends that signal investor sentiment. Are there recurring indicators of optimism or fear?'},\n",
    "                    {'question': 'Are there any major economic or geopolitical events influencing public expectations in the market?', 'prompt': 'List significant events (economic, political, or industry-specific) that have recently shaped public expectations in stock investments.'}\n",
    "                ]\n",
    "            }\n",
    "        },\n",
    "        {\n",
    "            'agent_class': 'AuthorAgent',\n",
    "            'agent_name': 'Financial Report Writer',\n",
    "            'agent_description': 'Write financial summaries based on corporate finance research.',\n",
    "            'config': {\n",
    "                'memory_attribute_key': 'investment_analysis',\n",
    "                'title': 'Investment Analysis Report',\n",
    "                'leading_questions': [\n",
    "                    {'question': 'What are the key takeaways from the latest corporate financial reports, and how do they compare with industry benchmarks?', 'prompt': 'Summarize the most important points from the latest financial reports, including performance metrics and comparisons with industry standards.'},\n",
    "                    {'question': 'How have recent earnings reports and balance sheet disclosures influenced investor sentiment?', 'prompt': 'Explain how recent earnings reports and balance sheets have impacted investor confidence, referencing key financial indicators.'},\n",
    "                    {'question': 'Are there any financial indicators or metrics that stand out in the companies under research?', 'prompt': 'Highlight notable financial metrics from corporate reports that could be useful in making investment decisions.'}\n",
    "                ]\n",
    "            }\n",
    "        },\n",
    "        {\n",
    "            'agent_class': 'AuthorAgent',\n",
    "            'agent_name': 'Investment Suggestion Writer',\n",
    "            'agent_description': 'Generate insights based on stock research and financial reports.',\n",
    "            'config': {\n",
    "                'memory_attribute_key': 'investment_analysis',\n",
    "                'title': 'Investment Analysis Report',\n",
    "                'leading_questions': [\n",
    "                    {'question': 'Which stock or company is being analyzed for investment considerations?', 'prompt': 'Identify the stock or company mentioned in the conversation history. Provide context on why it is being analyzed, referencing relevant past discussions or queries.'},\n",
    "                    {'question': 'What are the key insights from stock trends, financial reports, and market sentiment?', 'prompt': 'Analyze stock price movements, market trends, corporate financial reports, and investor sentiment. Identify significant patterns and factors affecting the stock’s performance.'},\n",
    "                    {'question': 'Based on the analysis, should investors consider buying, selling, or holding this stock?', 'prompt': 'Evaluate the stock\\'s current valuation, market trends, financial stability, and risk factors. Provide a single, definitive investment decision on whether investors should buy, sell, or hold.'}\n",
    "                ]\n",
    "            }\n",
    "        }\n",
    "    ],\n",
    "    'super_agents': [\n",
    "        {\n",
    "            'agent_class': 'FlowSuperAgent',\n",
    "            'agent_name': 'Investment Strategy Advisor',\n",
    "            'agent_description': 'Provides investment insights based on stock and finance research.',\n",
    "            'config': {\n",
    "                'goal': 'Generate investment recommendations based on stock research, trends, financial reports, and public expectations.',\n",
    "                'agent_list': [\n",
    "                    {'agent_name': 'Stock Price Researcher', 'next_step': ['Stock Trend Researcher', 'Stock Influence Researcher', 'Financial Report Writer']},\n",
    "                    {'agent_name': 'Stock Trend Researcher', 'next_step': ['Public Expectation Writer']},\n",
    "                    {'agent_name': 'Stock Influence Researcher', 'next_step': ['Investment Suggestion Writer']},\n",
    "                    {'agent_name': 'Corporate Finance Researcher', 'next_step': ['Financial Report Writer']},\n",
    "                    {'agent_name': 'Financial Report Writer', 'next_step': ['Investment Suggestion Writer', 'Stock Influence Researcher']},\n",
    "                    {'agent_name': 'Public Expectation Writer', 'next_step': ['Investment Suggestion Writer']},\n",
    "                    {'agent_name': 'Investment Suggestion Writer'}\n",
    "                ]\n",
    "            }\n",
    "        }\n",
    "    ]\n",
    "}\n",
    "\n",
    "config_file_path = 'flow_config.yaml'\n",
    "with open(config_file_path, 'w') as f:\n",
    "    yaml.dump(config_data, f, default_flow_style=False)\n",
    "\n",
    "print(f\"'{config_file_path}' created successfully.\")\n",
    "\n",
    "# Visualize the workflow using our utility function\n",
    "diagram = utils.display_workflow_diagram(config_data)\n",
    "display(diagram)"
   ]
  },
  {
   "cell_type": "markdown",
   "metadata": {},
   "source": [
    "## Step 4: Login and Initialize the Distiller Client\n",
    "\n",
    "Our utility library handles the login and client setup. This cell calls our functions to perform the authentication and create the `DistillerClient` instance."
   ]
  },
  {
   "cell_type": "code",
   "execution_count": null,
   "metadata": {},
   "outputs": [],
   "source": [
    "# Securely log in using our utility function\n",
    "utils.secure_login()\n",
    "\n",
    "# Create a distiller client\n",
    "project_name = \"stock_invest_advisor\"\n",
    "distiller_client = utils.initialize_client(config_path=config_file_path, project_name=project_name)"
   ]
  },
  {
   "cell_type": "markdown",
   "metadata": {},
   "source": [
    "## Step 5: Ask for Investment Advice\n",
    "\n",
    "Now that the client is initialized, we can ask our first question. The response from the agent will be streamed back. We will format each message to show which internal agent (the 'role') generated the content, similar to how the OpenAI API structures chat responses."
   ]
  },
  {
   "cell_type": "code",
   "execution_count": null,
   "metadata": {},
   "outputs": [],
   "source": [
    "# Use the client to ask a question to the Flow Super Agent\n",
    "async with distiller_client(\n",
    "    project=project_name,\n",
    "    uuid=\"test_user_flow\", # A unique identifier for the user/session\n",
    ") as dc:\n",
    "    print(\"\\nSending request to the Flow Super Agent... (This may take a moment)\")\n",
    "    responses = await dc.query(\n",
    "        query=\"Should I invest in NVDA this quarter?\"\n",
    "    )\n",
    "    \n",
    "    print(\"\\n--- Agents Response ---\")\n",
    "    async for response in responses:\n",
    "        # The response object from the SDK likely contains the agent's name.\n",
    "        # We'll use this to represent the 'role'.\n",
    "        role = response.get(\"role\", \"system\")\n",
    "        content = response.get(\"content\", \"\")\n",
    "\n",
    "        # Display the role and then the content in a structured way.\n",
    "        print(f\"🗣️ Role: {role}\")\n",
    "        display(Markdown(content))\n",
    "        print(\"-------------------\\n\")"
   ]
  },
  {
   "cell_type": "markdown",
   "metadata": {},
   "source": [
    "## Step 6: Try Your Own Questions!\n",
    "\n",
    "Now it's your turn. You can modify the `my_question` in the cell below to ask about a different stock. The output will again be formatted to show the chat roles."
   ]
  },
  {
   "cell_type": "code",
   "execution_count": null,
   "metadata": {},
   "outputs": [],
   "source": [
    "# --- Try your own question here! ---\n",
    "my_question = \"Should I invest in MSFT this quarter?\"\n",
    "# ------------------------------------------------\n",
    "\n",
    "async with distiller_client(project=project_name, uuid=\"test_user_flow_2\") as dc:\n",
    "    print(f\"\\nAsking the agent: '{my_question}'\")\n",
    "    responses = await dc.query(\n",
    "        query=my_question,\n",
    "    )\n",
    "    print(\"\\n--- Agents Response ---\")\n",
    "    async for response in responses:\n",
    "        # The response object from the SDK likely contains the agent's name.\n",
    "        # We'll use this to represent the 'role'.\n",
    "        role = response.get(\"role\", \"system\")\n",
    "        content = response.get(\"content\", \"\")\n",
    "\n",
    "        # Display the role and then the content in a structured way.\n",
    "        print(f\"🗣️ Role: {role}\")\n",
    "        display(Markdown(content))\n",
    "        print(\"-------------------\\n\")"
   ]
  },
  {
   "cell_type": "markdown",
   "metadata": {},
   "source": [
    "## Congratulations!\n",
    "\n",
    "You've successfully used the `FlowSuperAgent` to manage a complex, multi-agent workflow and can now see the individual contributions from each agent in the flow."
   ]
  }
 ],
 "metadata": {
  "kernelspec": {
   "display_name": ".venv",
   "language": "python",
   "name": "python3"
  },
  "language_info": {
   "codemirror_mode": {
    "name": "ipython",
    "version": 3
   },
   "file_extension": ".py",
   "mimetype": "text/x-python",
   "name": "python",
   "nbconvert_exporter": "python",
   "pygments_lexer": "ipython3",
   "version": "3.12.10"
  }
 },
 "nbformat": 4,
 "nbformat_minor": 4
}
