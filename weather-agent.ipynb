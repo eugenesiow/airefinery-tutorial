{
 "cells": [
  {
   "cell_type": "markdown",
   "metadata": {},
   "source": [
    "# Getting Started with a Simple Weather Agent\n",
    "\n",
    "Welcome! This notebook is a guide to creating and running a simple, single-agent system using the Accenture AI Refinery SDK.\n",
    "\n",
    "Following the 'Getting Started' tutorial, this notebook uses the `DistillerClient` to create and connect to a `SearchAgent` that can answer questions about the weather. We will then start the agent in an interactive chat session."
   ]
  },
  {
   "cell_type": "markdown",
   "metadata": {},
   "source": [
    "## Step 1: Installation\n",
    "\n",
    "First, we need to install the necessary libraries. We'll install `airefinery-sdk`, `python-dotenv` for managing credentials, `PyYAML` to create our configuration, and `nest-asyncio` to handle asynchronous operations within the notebook."
   ]
  },
  {
   "cell_type": "code",
   "execution_count": null,
   "metadata": {},
   "outputs": [],
   "source": [
    "%pip install airefinery-sdk python-dotenv PyYAML nest-asyncio"
   ]
  },
  {
   "cell_type": "markdown",
   "metadata": {},
   "source": [
    "## Step 2: Import Libraries and Apply Async Patch\n",
    "\n",
    "Now we import the necessary libraries. We also import and apply `nest_asyncio` to allow the SDK's interactive mode to run correctly within the Jupyter environment."
   ]
  },
  {
   "cell_type": "code",
   "execution_count": null,
   "metadata": {},
   "outputs": [],
   "source": [
    "import yaml\n",
    "from IPython.display import display, Markdown\n",
    "import utils\n",
    "import nest_asyncio\n",
    "\n",
    "# Apply the patch to allow nested event loops\n",
    "nest_asyncio.apply()"
   ]
  },
  {
   "cell_type": "markdown",
   "metadata": {},
   "source": [
    "## Step 3: Create Agent Configuration\n",
    "\n",
    "The `DistillerClient` uses a YAML file to define the agent. The cell below will create the `weather_config.yaml` file for a simple `SearchAgent` designed to answer weather-related questions."
   ]
  },
  {
   "cell_type": "code",
   "execution_count": null,
   "metadata": {},
   "outputs": [],
   "source": [
    "config_data = {\n",
    "    'utility_agents': [\n",
    "        {\n",
    "            'agent_class': 'SearchAgent',\n",
    "            'agent_name': 'Weather Agent',\n",
    "            'agent_description': 'This agent finds the latest updates of the weather in any state in the USA. Do not ask this agent any question that is not related to this scope.',\n",
    "            'config': {\n",
    "                'output_style': 'conversational',\n",
    "                'contexts': ['chat_history']\n",
    "            }\n",
    "        }\n",
    "    ],\n",
    "    'orchestrator': {\n",
    "        'agent_list': [\n",
    "            {'agent_name': 'Weather Agent'}\n",
    "        ]\n",
    "    }\n",
    "}\n",
    "\n",
    "config_file_path = 'weather_config.yaml'\n",
    "with open(config_file_path, 'w') as f:\n",
    "    yaml.dump(config_data, f, default_flow_style=False)\n",
    "\n",
    "print(f\"'{config_file_path}' created successfully.\")"
   ]
  },
  {
   "cell_type": "markdown",
   "metadata": {},
   "source": [
    "## Step 4: Login and Initialize the Distiller Client\n",
    "\n",
    "Our utility library handles the login and client setup. This cell calls our functions to perform authentication and create the `DistillerClient` instance for our new weather project."
   ]
  },
  {
   "cell_type": "code",
   "execution_count": null,
   "metadata": {},
   "outputs": [],
   "source": [
    "# Securely log in using our utility function\n",
    "utils.secure_login()\n",
    "\n",
    "# Define a project name for our weather agent\n",
    "project_name = \"weather_assistant\"\n",
    "\n",
    "# Create a distiller client and register the project\n",
    "distiller_client = utils.initialize_client(config_path=config_file_path, project_name=project_name)"
   ]
  },
  {
   "cell_type": "markdown",
   "metadata": {},
   "source": [
    "## Step 5: Start the Agent in Interactive Mode\n",
    "\n",
    "Now that the client is initialized and the project is created, we can connect to it and start a conversation. The `interactive()` method will launch a chat interface directly in the notebook output, allowing you to talk to the Weather Agent."
   ]
  },
  {
   "cell_type": "code",
   "execution_count": null,
   "metadata": {},
   "outputs": [],
   "source": [
    "print(f\"Starting interactive session for project '{project_name}'...\")\n",
    "print(\"Type 'exit' to end the conversation.\")\n",
    "\n",
    "# Start the interactive chat session\n",
    "distiller_client.interactive(\n",
    "    project=project_name,\n",
    "    uuid=\"interactive_weather_user\" # A unique identifier for the user/session\n",
    ")"
   ]
  },
  {
   "cell_type": "markdown",
   "metadata": {},
   "source": [
    "## Congratulations!\n",
    "\n",
    "You have successfully created, configured, and launched a Weather Agent in interactive mode.\n",
    "\n",
    "This notebook demonstrates the basic steps of setting up a simple agent using the AI Refinery SDK and your reusable utility functions."
   ]
  }
 ],
 "metadata": {
  "kernelspec": {
   "display_name": ".venv",
   "language": "python",
   "name": "python3"
  },
  "language_info": {
   "codemirror_mode": {
    "name": "ipython",
    "version": 3
   },
   "file_extension": ".py",
   "mimetype": "text/x-python",
   "name": "python",
   "nbconvert_exporter": "python",
   "pygments_lexer": "ipython3",
   "version": "3.12.10"
  }
 },
 "nbformat": 4,
 "nbformat_minor": 4
}
