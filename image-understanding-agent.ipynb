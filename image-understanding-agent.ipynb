{
 "cells": [
  {
   "cell_type": "markdown",
   "metadata": {},
   "source": [
    "# Getting Started with Image Understanding using the AI Refinery SDK\n",
    "\n",
    "Welcome! This notebook is a beginner-friendly guide to using the Accenture AI Refinery SDK for a common and powerful task: **Image Understanding**.\n",
    "\n",
    "This notebook uses the `DistillerClient`, which allows for building complex, multi-agent systems. We will walk through setting up a simple configuration to use the powerful, single-purpose **Image Understanding Agent**.\n",
    "\n",
    "### What is Image Understanding?\n",
    "\n",
    "Image understanding, or Visual Question Answering (VQA), is a fascinating AI capability where you can ask a question about an image in plain English. The AI model \"sees\" the image and provides a text-based answer. For example, you could show it a picture of a city street and ask, \"*How many cars are in this image?*\"\n",
    "\n",
    "### What is the AI Refinery SDK?\n",
    "The AI Refinery SDK is a toolkit that makes it easier for developers to build and use powerful AI agents. It handles the complex parts of connecting to and interacting with large AI models, so you can focus on building your application. The `DistillerClient` is a key component that orchestrates how different agents work together to solve a task."
   ]
  },
  {
   "cell_type": "markdown",
   "metadata": {},
   "source": [
    "## Step 1: Installation\n",
    "\n",
    "First, we need to install the necessary libraries. We'll install `airefinery-sdk`, `python-dotenv` (used by the SDK examples), `requests` to help us display our example image, `Pillow` to work with image files, and `PyYAML` to create our configuration.\n",
    "\n",
    "You can run the cell below by selecting it and pressing **Shift + Enter**."
   ]
  },
  {
   "cell_type": "code",
   "execution_count": null,
   "metadata": {},
   "outputs": [],
   "source": [
    "%pip install airefinery-sdk python-dotenv requests Pillow PyYAML"
   ]
  },
  {
   "cell_type": "markdown",
   "metadata": {},
   "source": [
    "## Step 2: Securely Enter Your Credentials\n",
    "\n",
    "To use the AI Refinery SDK, you need an **Account** and an **API Key**. These are your credentials for accessing the AI models.\n",
    "\n",
    "**It is very important to keep your credentials private.** You should never write them directly in your code (hardcoding) or share them publicly.\n",
    "\n",
    "We'll use Python's `getpass` library, which provides a secure way to enter your details. When you run the cell below, it will prompt you for each value in a text box that hides the characters as you type. We will then set them as environment variables, which is a common practice the SDK examples follow."
   ]
  },
  {
   "cell_type": "code",
   "execution_count": null,
   "metadata": {},
   "outputs": [],
   "source": [
    "import os\n",
    "import getpass\n",
    "\n",
    "# Securely get the Account and API key from the user\n",
    "account = getpass.getpass(\"Please enter your AI Refinery Account: \")\n",
    "api_key = getpass.getpass(\"Please enter your AI Refinery API Key: \")\n",
    "\n",
    "# Set the credentials as environment variables for the SDK to use\n",
    "os.environ[\"ACCOUNT\"] = account\n",
    "os.environ[\"API_KEY\"] = api_key\n",
    "\n",
    "print(\"Credentials have been set successfully!\")"
   ]
  },
  {
   "cell_type": "markdown",
   "metadata": {},
   "source": [
    "## Step 3: Create the Agent Configuration File\n",
    "\n",
    "The `DistillerClient` uses a YAML file to define which agents are available and how they should be orchestrated. For this tutorial, we only need to define the `ImageUnderstandingAgent`.\n",
    "\n",
    "Instead of making you create this file manually, the cell below will create the `example.yaml` file for you in the current directory. This keeps our notebook self-contained."
   ]
  },
  {
   "cell_type": "code",
   "execution_count": null,
   "metadata": {},
   "outputs": [],
   "source": [
    "import yaml\n",
    "\n",
    "config_data = {\n",
    "    'orchestrator': {\n",
    "        'agent_list': [\n",
    "            {'agent_name': 'Image Understanding Agent'}\n",
    "        ]\n",
    "    },\n",
    "    'utility_agents': [\n",
    "        {\n",
    "            'agent_class': 'ImageUnderstandingAgent',\n",
    "            'agent_name': 'Image Understanding Agent',\n",
    "            'agent_description': 'This agent can help you understand and analyze an image.',\n",
    "            'config': {}\n",
    "        }\n",
    "    ]\n",
    "}\n",
    "\n",
    "config_file_path = 'example.yaml'\n",
    "with open(config_file_path, 'w') as f:\n",
    "    yaml.dump(config_data, f, default_flow_style=False)\n",
    "\n",
    "print(f\"'{config_file_path}' created successfully.\")"
   ]
  },
  {
   "cell_type": "markdown",
   "metadata": {},
   "source": [
    "## Step 4: Login and Initialize the Distiller Client\n",
    "\n",
    "Now we will perform the setup required to use the client. This cell logs in with your credentials and creates a `DistillerClient` instance that is configured with our `example.yaml` file. \n",
    "\n",
    "We only need to run this setup once. The `distiller_client` object will then be available for us to use in the following steps."
   ]
  },
  {
   "cell_type": "code",
   "execution_count": null,
   "metadata": {},
   "outputs": [],
   "source": [
    "from air import DistillerClient, login\n",
    "\n",
    "# Authenticate using the environment variables we set earlier\n",
    "login(\n",
    "    account=str(os.getenv(\"ACCOUNT\")),\n",
    "    api_key=str(os.getenv(\"API_KEY\")),\n",
    ")\n",
    "print(\"Login successful.\")\n",
    "\n",
    "# Create a distiller client\n",
    "distiller_client = DistillerClient()\n",
    "\n",
    "# Upload your config file to register a new distiller project\n",
    "distiller_client.create_project(config_path=\"example.yaml\", project=\"example\")\n",
    "print(\"Project 'example' created and client is ready to use.\")"
   ]
  },
  {
   "cell_type": "markdown",
   "metadata": {},
   "source": [
    "## Step 5: Ask a Question About a Chart\n",
    "\n",
    "Now that the client is initialized, we can ask our first question. We will use the `distiller_client` object we created in the previous step.\n",
    "\n",
    "This cell will:\n",
    "1. Define the image URL and the question.\n",
    "2. Use the `dc.query()` method, passing the question and the image.\n",
    "3. Loop through the asynchronous response to get the content.\n",
    "\n",
    "**Note:** In a Jupyter environment, you can use `await` directly in a cell to run asynchronous code."
   ]
  },
  {
   "cell_type": "code",
   "execution_count": null,
   "metadata": {},
   "outputs": [],
   "source": [
    "from air import utils\n",
    "from PIL import Image\n",
    "import requests\n",
    "\n",
    "# URL of the image we want to use\n",
    "image_url = \"https://sdk.airefinery.accenture.com/tutorial/img_understanding/chart.png\"\n",
    "\n",
    "# Display the image for context\n",
    "print(\"Displaying the image we are analyzing:\")\n",
    "display(Image.open(requests.get(image_url, stream=True).raw))\n",
    "\n",
    "# Use the client to ask a question about the image\n",
    "async with distiller_client(\n",
    "    project=\"example\",\n",
    "    uuid=\"test_user_chart\", # A unique identifier for the user/session\n",
    ") as dc:\n",
    "    print(\"\\nSending request to the Image Understanding Agent... (This may take a moment)\")\n",
    "    responses = await dc.query(\n",
    "        query=\"What's in this image? Describe the chart in detail.\",\n",
    "        image=utils.image_to_base64(\n",
    "            image_url\n",
    "        ),\n",
    "    )\n",
    "    \n",
    "    print(\"\\n--- AI Response ---\")\n",
    "    async for response in responses:\n",
    "        # Extract and print the 'content' field from the response\n",
    "        print(response[\"content\"])\n",
    "    print(\"-------------------\")"
   ]
  },
  {
   "cell_type": "markdown",
   "metadata": {},
   "source": [
    "## Step 6: Try Your Own Questions!\n",
    "\n",
    "Now it's your turn. You can modify the `my_question` and `my_image_url` in the cell below to ask about any image on the web. Since the `distiller_client` is already set up, we can just call it again.\n",
    "\n",
    "Here are some ideas for questions and images:\n",
    "* **Image:** A picture of a famous landmark. **Question:** \"What is the history of this place?\"\n",
    "* **Image:** A picture of a meal. **Question:** \"What cuisine is this and what might the ingredients be?\"\n",
    "* **Image:** The table image from the documentation. **Question:** \"Convert the table shown in the image into markdown format\""
   ]
  },
  {
   "cell_type": "code",
   "execution_count": null,
   "metadata": {},
   "outputs": [],
   "source": [
    "# --- Try your own question and image URL here! ---\n",
    "my_image_url = \"https://sdk.airefinery.accenture.com/tutorial/img_understanding/general_image_reading.png\"\n",
    "my_question = \"Describe this image and explain its significance.\"\n",
    "# ------------------------------------------------\n",
    "\n",
    "# Display the image for context\n",
    "print(\"Displaying the image we are analyzing:\")\n",
    "display(Image.open(requests.get(my_image_url, stream=True).raw))\n",
    "\n",
    "async with distiller_client(project=\"example\", uuid=\"test_user_general\") as dc:\n",
    "    print(f\"\\nAsking the agent: '{my_question}'\")\n",
    "    responses = await dc.query(\n",
    "        query=my_question,\n",
    "        image=utils.image_to_base64(my_image_url),\n",
    "    )\n",
    "    print(\"\\n--- AI Response ---\")\n",
    "    async for response in responses:\n",
    "        print(response[\"content\"])\n",
    "    print(\"-------------------\")"
   ]
  },
  {
   "cell_type": "markdown",
   "metadata": {},
   "source": [
    "## Congratulations!\n",
    "\n",
    "You've successfully used the new `DistillerClient` to build and query an image understanding agent. \n",
    "\n",
    "You have learned how to:\n",
    "- Install the necessary libraries.\n",
    "- Securely handle your Account and API Key.\n",
    "- Create a YAML configuration file for the SDK programmatically.\n",
    "- Initialize the `DistillerClient` once and reuse it for multiple queries.\n",
    "- Use the client to ask questions about an image from a URL.\n",
    "\n",
    "From here, you can explore the full documentation to learn about creating more complex agentic frameworks with multiple, specialized agents working together."
   ]
  }
 ],
 "metadata": {
  "kernelspec": {
   "display_name": ".venv",
   "language": "python",
   "name": "python3"
  },
  "language_info": {
   "codemirror_mode": {
    "name": "ipython",
    "version": 3
   },
   "file_extension": ".py",
   "mimetype": "text/x-python",
   "name": "python",
   "nbconvert_exporter": "python",
   "pygments_lexer": "ipython3",
   "version": "3.12.10"
  }
 },
 "nbformat": 4,
 "nbformat_minor": 4
}
